{
 "cells": [
  {
   "cell_type": "code",
   "execution_count": 4,
   "id": "b32d4ae4-cdc0-4b04-b136-12c4790c070f",
   "metadata": {},
   "outputs": [
    {
     "name": "stdout",
     "output_type": "stream",
     "text": [
      "Requirement already satisfied: opencv-python in c:\\users\\jabax\\appdata\\local\\programs\\python\\python311\\lib\\site-packages (4.9.0.80)\n",
      "Requirement already satisfied: numpy>=1.21.2 in c:\\users\\jabax\\appdata\\local\\programs\\python\\python311\\lib\\site-packages (from opencv-python) (1.26.4)\n",
      "Requirement already satisfied: scikit-learn in c:\\users\\jabax\\appdata\\roaming\\python\\python311\\site-packages (1.4.2)\n",
      "Requirement already satisfied: pillow in c:\\users\\jabax\\appdata\\local\\programs\\python\\python311\\lib\\site-packages (10.3.0)\n",
      "Requirement already satisfied: tqdm in c:\\users\\jabax\\appdata\\local\\programs\\python\\python311\\lib\\site-packages (4.66.2)\n",
      "Requirement already satisfied: numpy>=1.19.5 in c:\\users\\jabax\\appdata\\local\\programs\\python\\python311\\lib\\site-packages (from scikit-learn) (1.26.4)\n",
      "Requirement already satisfied: scipy>=1.6.0 in c:\\users\\jabax\\appdata\\local\\programs\\python\\python311\\lib\\site-packages (from scikit-learn) (1.13.0)\n",
      "Requirement already satisfied: joblib>=1.2.0 in c:\\users\\jabax\\appdata\\roaming\\python\\python311\\site-packages (from scikit-learn) (1.4.0)\n",
      "Requirement already satisfied: threadpoolctl>=2.0.0 in c:\\users\\jabax\\appdata\\local\\programs\\python\\python311\\lib\\site-packages (from scikit-learn) (3.4.0)\n",
      "Requirement already satisfied: colorama in c:\\users\\jabax\\appdata\\local\\programs\\python\\python311\\lib\\site-packages (from tqdm) (0.4.6)\n",
      "Requirement already satisfied: torch in c:\\users\\jabax\\appdata\\local\\programs\\python\\python311\\lib\\site-packages (2.2.2)\n",
      "Requirement already satisfied: torchvision in c:\\users\\jabax\\appdata\\local\\programs\\python\\python311\\lib\\site-packages (0.17.2)\n",
      "Requirement already satisfied: numpy in c:\\users\\jabax\\appdata\\local\\programs\\python\\python311\\lib\\site-packages (1.26.4)\n",
      "Requirement already satisfied: matplotlib in c:\\users\\jabax\\appdata\\local\\programs\\python\\python311\\lib\\site-packages (3.8.4)\n",
      "Requirement already satisfied: filelock in c:\\users\\jabax\\appdata\\local\\programs\\python\\python311\\lib\\site-packages (from torch) (3.13.4)\n",
      "Requirement already satisfied: typing-extensions>=4.8.0 in c:\\users\\jabax\\appdata\\local\\programs\\python\\python311\\lib\\site-packages (from torch) (4.11.0)\n",
      "Requirement already satisfied: sympy in c:\\users\\jabax\\appdata\\local\\programs\\python\\python311\\lib\\site-packages (from torch) (1.12)\n",
      "Requirement already satisfied: networkx in c:\\users\\jabax\\appdata\\local\\programs\\python\\python311\\lib\\site-packages (from torch) (3.3)\n",
      "Requirement already satisfied: jinja2 in c:\\users\\jabax\\appdata\\local\\programs\\python\\python311\\lib\\site-packages (from torch) (3.1.3)\n",
      "Requirement already satisfied: fsspec in c:\\users\\jabax\\appdata\\local\\programs\\python\\python311\\lib\\site-packages (from torch) (2024.3.1)\n",
      "Requirement already satisfied: pillow!=8.3.*,>=5.3.0 in c:\\users\\jabax\\appdata\\local\\programs\\python\\python311\\lib\\site-packages (from torchvision) (10.3.0)\n",
      "Requirement already satisfied: contourpy>=1.0.1 in c:\\users\\jabax\\appdata\\local\\programs\\python\\python311\\lib\\site-packages (from matplotlib) (1.2.1)\n",
      "Requirement already satisfied: cycler>=0.10 in c:\\users\\jabax\\appdata\\local\\programs\\python\\python311\\lib\\site-packages (from matplotlib) (0.12.1)\n",
      "Requirement already satisfied: fonttools>=4.22.0 in c:\\users\\jabax\\appdata\\local\\programs\\python\\python311\\lib\\site-packages (from matplotlib) (4.51.0)\n",
      "Requirement already satisfied: kiwisolver>=1.3.1 in c:\\users\\jabax\\appdata\\local\\programs\\python\\python311\\lib\\site-packages (from matplotlib) (1.4.5)\n",
      "Requirement already satisfied: packaging>=20.0 in c:\\users\\jabax\\appdata\\local\\programs\\python\\python311\\lib\\site-packages (from matplotlib) (24.0)\n",
      "Requirement already satisfied: pyparsing>=2.3.1 in c:\\users\\jabax\\appdata\\local\\programs\\python\\python311\\lib\\site-packages (from matplotlib) (3.1.2)\n",
      "Requirement already satisfied: python-dateutil>=2.7 in c:\\users\\jabax\\appdata\\local\\programs\\python\\python311\\lib\\site-packages (from matplotlib) (2.9.0.post0)\n",
      "Requirement already satisfied: six>=1.5 in c:\\users\\jabax\\appdata\\local\\programs\\python\\python311\\lib\\site-packages (from python-dateutil>=2.7->matplotlib) (1.16.0)\n",
      "Requirement already satisfied: MarkupSafe>=2.0 in c:\\users\\jabax\\appdata\\local\\programs\\python\\python311\\lib\\site-packages (from jinja2->torch) (2.1.5)\n",
      "Requirement already satisfied: mpmath>=0.19 in c:\\users\\jabax\\appdata\\local\\programs\\python\\python311\\lib\\site-packages (from sympy->torch) (1.3.0)\n",
      "Requirement already satisfied: tqdm in c:\\users\\jabax\\appdata\\local\\programs\\python\\python311\\lib\\site-packages (4.66.2)\n",
      "Requirement already satisfied: colorama in c:\\users\\jabax\\appdata\\local\\programs\\python\\python311\\lib\\site-packages (from tqdm) (0.4.6)\n",
      "Requirement already satisfied: Augmentor in c:\\users\\jabax\\appdata\\local\\programs\\python\\python311\\lib\\site-packages (0.2.12)\n",
      "Requirement already satisfied: Pillow>=5.2.0 in c:\\users\\jabax\\appdata\\local\\programs\\python\\python311\\lib\\site-packages (from Augmentor) (10.3.0)\n",
      "Requirement already satisfied: tqdm>=4.9.0 in c:\\users\\jabax\\appdata\\local\\programs\\python\\python311\\lib\\site-packages (from Augmentor) (4.66.2)\n",
      "Requirement already satisfied: numpy>=1.11.0 in c:\\users\\jabax\\appdata\\local\\programs\\python\\python311\\lib\\site-packages (from Augmentor) (1.26.4)\n",
      "Requirement already satisfied: colorama in c:\\users\\jabax\\appdata\\local\\programs\\python\\python311\\lib\\site-packages (from tqdm>=4.9.0->Augmentor) (0.4.6)\n"
     ]
    }
   ],
   "source": [
    "get_ipython().system('pip install opencv-python')\n",
    "get_ipython().system('pip install scikit-learn pillow tqdm')\n",
    "get_ipython().system('pip install torch torchvision numpy matplotlib')\n",
    "get_ipython().system('pip install tqdm')\n",
    "get_ipython().system('pip install Augmentor')"
   ]
  },
  {
   "cell_type": "code",
   "execution_count": 25,
   "id": "f010a1bd-6bee-4dff-afd4-1eb63ce1a8d3",
   "metadata": {},
   "outputs": [
    {
     "data": {
      "text/plain": [
       "resnet50_features"
      ]
     },
     "execution_count": 25,
     "metadata": {},
     "output_type": "execute_result"
    }
   ],
   "source": [
    "import sys\n",
    "import os\n",
    "\n",
    "# Add the ProtoPNet directory to the Python path\n",
    "if \"C:\\\\Users\\jabax\\OneDrive - The Pennsylvania State University\\ProtoPNet_Clone\\ProtoPNet\" not in sys.path:\n",
    "    sys.path.append(\"C:\\\\Users\\jabax\\OneDrive - The Pennsylvania State University\\ProtoPNet_Clone\\ProtoPNet\")\n",
    "    \n",
    "import torch\n",
    "import pandas as pd\n",
    "from sklearn.model_selection import train_test_split\n",
    "from sklearn.utils import resample\n",
    "from sklearn.model_selection import train_test_split\n",
    "import tensorflow as tf\n",
    "from tensorflow.keras.preprocessing.image import ImageDataGenerator\n",
    "import matplotlib.pyplot as plt\n",
    "from torchvision import models\n",
    "from resnet_features import resnet50_features\n",
    "from model import PPNet\n",
    "\n",
    "# Instantiate the ResNet50 model\n",
    "res_model = resnet50_features(pretrained=True)\n",
    "\n",
    "# Set the model to evaluation mode\n",
    "res_model.eval()\n"
   ]
  },
  {
   "cell_type": "code",
   "execution_count": null,
   "id": "18facd49-8139-48c8-acbe-2dcbac301b50",
   "metadata": {},
   "outputs": [],
   "source": []
  }
 ],
 "metadata": {
  "kernelspec": {
   "display_name": "Python 3 (ipykernel)",
   "language": "python",
   "name": "python3"
  },
  "language_info": {
   "codemirror_mode": {
    "name": "ipython",
    "version": 3
   },
   "file_extension": ".py",
   "mimetype": "text/x-python",
   "name": "python",
   "nbconvert_exporter": "python",
   "pygments_lexer": "ipython3",
   "version": "3.11.9"
  }
 },
 "nbformat": 4,
 "nbformat_minor": 5
}
