{
 "cells": [
  {
   "cell_type": "code",
   "execution_count": 8,
   "id": "436091ab-9e04-4c68-90cb-3ee836cb7f62",
   "metadata": {
    "scrolled": true
   },
   "outputs": [
    {
     "name": "stdout",
     "output_type": "stream",
     "text": [
      "Requirement already satisfied: opencv-python in /home/alan/.config/jupyterlab-desktop/jlab_server/lib/python3.12/site-packages (4.10.0.82)\n",
      "Requirement already satisfied: numpy>=1.21.2 in /home/alan/.config/jupyterlab-desktop/jlab_server/lib/python3.12/site-packages (from opencv-python) (1.26.4)\n",
      "Requirement already satisfied: scikit-learn in /home/alan/.config/jupyterlab-desktop/jlab_server/lib/python3.12/site-packages (1.5.0)\n",
      "Requirement already satisfied: pillow in /home/alan/.config/jupyterlab-desktop/jlab_server/lib/python3.12/site-packages (10.3.0)\n",
      "Requirement already satisfied: tqdm in /home/alan/.config/jupyterlab-desktop/jlab_server/lib/python3.12/site-packages (4.66.4)\n",
      "Requirement already satisfied: numpy>=1.19.5 in /home/alan/.config/jupyterlab-desktop/jlab_server/lib/python3.12/site-packages (from scikit-learn) (1.26.4)\n",
      "Requirement already satisfied: scipy>=1.6.0 in /home/alan/.config/jupyterlab-desktop/jlab_server/lib/python3.12/site-packages (from scikit-learn) (1.13.1)\n",
      "Requirement already satisfied: joblib>=1.2.0 in /home/alan/.config/jupyterlab-desktop/jlab_server/lib/python3.12/site-packages (from scikit-learn) (1.4.2)\n",
      "Requirement already satisfied: threadpoolctl>=3.1.0 in /home/alan/.config/jupyterlab-desktop/jlab_server/lib/python3.12/site-packages (from scikit-learn) (3.5.0)\n",
      "Requirement already satisfied: torch in /home/alan/.config/jupyterlab-desktop/jlab_server/lib/python3.12/site-packages (2.3.1)\n",
      "Requirement already satisfied: torchvision in /home/alan/.config/jupyterlab-desktop/jlab_server/lib/python3.12/site-packages (0.18.1)\n",
      "Requirement already satisfied: numpy in /home/alan/.config/jupyterlab-desktop/jlab_server/lib/python3.12/site-packages (1.26.4)\n",
      "Requirement already satisfied: matplotlib in /home/alan/.config/jupyterlab-desktop/jlab_server/lib/python3.12/site-packages (3.8.4)\n",
      "Requirement already satisfied: filelock in /home/alan/.config/jupyterlab-desktop/jlab_server/lib/python3.12/site-packages (from torch) (3.14.0)\n",
      "Requirement already satisfied: typing-extensions>=4.8.0 in /home/alan/.config/jupyterlab-desktop/jlab_server/lib/python3.12/site-packages (from torch) (4.11.0)\n",
      "Requirement already satisfied: sympy in /home/alan/.config/jupyterlab-desktop/jlab_server/lib/python3.12/site-packages (from torch) (1.12.1)\n",
      "Requirement already satisfied: networkx in /home/alan/.config/jupyterlab-desktop/jlab_server/lib/python3.12/site-packages (from torch) (3.3)\n",
      "Requirement already satisfied: jinja2 in /home/alan/.config/jupyterlab-desktop/jlab_server/lib/python3.12/site-packages (from torch) (3.1.4)\n",
      "Requirement already satisfied: fsspec in /home/alan/.config/jupyterlab-desktop/jlab_server/lib/python3.12/site-packages (from torch) (2024.6.0)\n",
      "Requirement already satisfied: nvidia-cuda-nvrtc-cu12==12.1.105 in /home/alan/.config/jupyterlab-desktop/jlab_server/lib/python3.12/site-packages (from torch) (12.1.105)\n",
      "Requirement already satisfied: nvidia-cuda-runtime-cu12==12.1.105 in /home/alan/.config/jupyterlab-desktop/jlab_server/lib/python3.12/site-packages (from torch) (12.1.105)\n",
      "Requirement already satisfied: nvidia-cuda-cupti-cu12==12.1.105 in /home/alan/.config/jupyterlab-desktop/jlab_server/lib/python3.12/site-packages (from torch) (12.1.105)\n",
      "Requirement already satisfied: nvidia-cudnn-cu12==8.9.2.26 in /home/alan/.config/jupyterlab-desktop/jlab_server/lib/python3.12/site-packages (from torch) (8.9.2.26)\n",
      "Requirement already satisfied: nvidia-cublas-cu12==12.1.3.1 in /home/alan/.config/jupyterlab-desktop/jlab_server/lib/python3.12/site-packages (from torch) (12.1.3.1)\n",
      "Requirement already satisfied: nvidia-cufft-cu12==11.0.2.54 in /home/alan/.config/jupyterlab-desktop/jlab_server/lib/python3.12/site-packages (from torch) (11.0.2.54)\n",
      "Requirement already satisfied: nvidia-curand-cu12==10.3.2.106 in /home/alan/.config/jupyterlab-desktop/jlab_server/lib/python3.12/site-packages (from torch) (10.3.2.106)\n",
      "Requirement already satisfied: nvidia-cusolver-cu12==11.4.5.107 in /home/alan/.config/jupyterlab-desktop/jlab_server/lib/python3.12/site-packages (from torch) (11.4.5.107)\n",
      "Requirement already satisfied: nvidia-cusparse-cu12==12.1.0.106 in /home/alan/.config/jupyterlab-desktop/jlab_server/lib/python3.12/site-packages (from torch) (12.1.0.106)\n",
      "Requirement already satisfied: nvidia-nccl-cu12==2.20.5 in /home/alan/.config/jupyterlab-desktop/jlab_server/lib/python3.12/site-packages (from torch) (2.20.5)\n",
      "Requirement already satisfied: nvidia-nvtx-cu12==12.1.105 in /home/alan/.config/jupyterlab-desktop/jlab_server/lib/python3.12/site-packages (from torch) (12.1.105)\n",
      "Requirement already satisfied: nvidia-nvjitlink-cu12 in /home/alan/.config/jupyterlab-desktop/jlab_server/lib/python3.12/site-packages (from nvidia-cusolver-cu12==11.4.5.107->torch) (12.5.40)\n",
      "Requirement already satisfied: pillow!=8.3.*,>=5.3.0 in /home/alan/.config/jupyterlab-desktop/jlab_server/lib/python3.12/site-packages (from torchvision) (10.3.0)\n",
      "Requirement already satisfied: contourpy>=1.0.1 in /home/alan/.config/jupyterlab-desktop/jlab_server/lib/python3.12/site-packages (from matplotlib) (1.2.1)\n",
      "Requirement already satisfied: cycler>=0.10 in /home/alan/.config/jupyterlab-desktop/jlab_server/lib/python3.12/site-packages (from matplotlib) (0.12.1)\n",
      "Requirement already satisfied: fonttools>=4.22.0 in /home/alan/.config/jupyterlab-desktop/jlab_server/lib/python3.12/site-packages (from matplotlib) (4.51.0)\n",
      "Requirement already satisfied: kiwisolver>=1.3.1 in /home/alan/.config/jupyterlab-desktop/jlab_server/lib/python3.12/site-packages (from matplotlib) (1.4.5)\n",
      "Requirement already satisfied: packaging>=20.0 in /home/alan/.config/jupyterlab-desktop/jlab_server/lib/python3.12/site-packages (from matplotlib) (24.0)\n",
      "Requirement already satisfied: pyparsing>=2.3.1 in /home/alan/.config/jupyterlab-desktop/jlab_server/lib/python3.12/site-packages (from matplotlib) (3.1.2)\n",
      "Requirement already satisfied: python-dateutil>=2.7 in /home/alan/.config/jupyterlab-desktop/jlab_server/lib/python3.12/site-packages (from matplotlib) (2.9.0)\n",
      "Requirement already satisfied: six>=1.5 in /home/alan/.config/jupyterlab-desktop/jlab_server/lib/python3.12/site-packages (from python-dateutil>=2.7->matplotlib) (1.16.0)\n",
      "Requirement already satisfied: MarkupSafe>=2.0 in /home/alan/.config/jupyterlab-desktop/jlab_server/lib/python3.12/site-packages (from jinja2->torch) (2.1.5)\n",
      "Requirement already satisfied: mpmath<1.4.0,>=1.1.0 in /home/alan/.config/jupyterlab-desktop/jlab_server/lib/python3.12/site-packages (from sympy->torch) (1.3.0)\n",
      "Requirement already satisfied: tqdm in /home/alan/.config/jupyterlab-desktop/jlab_server/lib/python3.12/site-packages (4.66.4)\n",
      "Requirement already satisfied: Augmentor in /home/alan/.config/jupyterlab-desktop/jlab_server/lib/python3.12/site-packages (0.2.12)\n",
      "Requirement already satisfied: Pillow>=5.2.0 in /home/alan/.config/jupyterlab-desktop/jlab_server/lib/python3.12/site-packages (from Augmentor) (10.3.0)\n",
      "Requirement already satisfied: tqdm>=4.9.0 in /home/alan/.config/jupyterlab-desktop/jlab_server/lib/python3.12/site-packages (from Augmentor) (4.66.4)\n",
      "Requirement already satisfied: numpy>=1.11.0 in /home/alan/.config/jupyterlab-desktop/jlab_server/lib/python3.12/site-packages (from Augmentor) (1.26.4)\n",
      "Requirement already satisfied: tensorflow in /home/alan/.config/jupyterlab-desktop/jlab_server/lib/python3.12/site-packages (2.16.1)\n",
      "Requirement already satisfied: absl-py>=1.0.0 in /home/alan/.config/jupyterlab-desktop/jlab_server/lib/python3.12/site-packages (from tensorflow) (2.1.0)\n",
      "Requirement already satisfied: astunparse>=1.6.0 in /home/alan/.config/jupyterlab-desktop/jlab_server/lib/python3.12/site-packages (from tensorflow) (1.6.3)\n",
      "Requirement already satisfied: flatbuffers>=23.5.26 in /home/alan/.config/jupyterlab-desktop/jlab_server/lib/python3.12/site-packages (from tensorflow) (24.3.25)\n",
      "Requirement already satisfied: gast!=0.5.0,!=0.5.1,!=0.5.2,>=0.2.1 in /home/alan/.config/jupyterlab-desktop/jlab_server/lib/python3.12/site-packages (from tensorflow) (0.5.4)\n",
      "Requirement already satisfied: google-pasta>=0.1.1 in /home/alan/.config/jupyterlab-desktop/jlab_server/lib/python3.12/site-packages (from tensorflow) (0.2.0)\n",
      "Requirement already satisfied: h5py>=3.10.0 in /home/alan/.config/jupyterlab-desktop/jlab_server/lib/python3.12/site-packages (from tensorflow) (3.11.0)\n",
      "Requirement already satisfied: libclang>=13.0.0 in /home/alan/.config/jupyterlab-desktop/jlab_server/lib/python3.12/site-packages (from tensorflow) (18.1.1)\n",
      "Requirement already satisfied: ml-dtypes~=0.3.1 in /home/alan/.config/jupyterlab-desktop/jlab_server/lib/python3.12/site-packages (from tensorflow) (0.3.2)\n",
      "Requirement already satisfied: opt-einsum>=2.3.2 in /home/alan/.config/jupyterlab-desktop/jlab_server/lib/python3.12/site-packages (from tensorflow) (3.3.0)\n",
      "Requirement already satisfied: packaging in /home/alan/.config/jupyterlab-desktop/jlab_server/lib/python3.12/site-packages (from tensorflow) (24.0)\n",
      "Requirement already satisfied: protobuf!=4.21.0,!=4.21.1,!=4.21.2,!=4.21.3,!=4.21.4,!=4.21.5,<5.0.0dev,>=3.20.3 in /home/alan/.config/jupyterlab-desktop/jlab_server/lib/python3.12/site-packages (from tensorflow) (4.25.3)\n",
      "Requirement already satisfied: requests<3,>=2.21.0 in /home/alan/.config/jupyterlab-desktop/jlab_server/lib/python3.12/site-packages (from tensorflow) (2.32.2)\n",
      "Requirement already satisfied: setuptools in /home/alan/.config/jupyterlab-desktop/jlab_server/lib/python3.12/site-packages (from tensorflow) (70.0.0)\n",
      "Requirement already satisfied: six>=1.12.0 in /home/alan/.config/jupyterlab-desktop/jlab_server/lib/python3.12/site-packages (from tensorflow) (1.16.0)\n",
      "Requirement already satisfied: termcolor>=1.1.0 in /home/alan/.config/jupyterlab-desktop/jlab_server/lib/python3.12/site-packages (from tensorflow) (2.4.0)\n",
      "Requirement already satisfied: typing-extensions>=3.6.6 in /home/alan/.config/jupyterlab-desktop/jlab_server/lib/python3.12/site-packages (from tensorflow) (4.11.0)\n",
      "Requirement already satisfied: wrapt>=1.11.0 in /home/alan/.config/jupyterlab-desktop/jlab_server/lib/python3.12/site-packages (from tensorflow) (1.16.0)\n",
      "Requirement already satisfied: grpcio<2.0,>=1.24.3 in /home/alan/.config/jupyterlab-desktop/jlab_server/lib/python3.12/site-packages (from tensorflow) (1.64.1)\n",
      "Requirement already satisfied: tensorboard<2.17,>=2.16 in /home/alan/.config/jupyterlab-desktop/jlab_server/lib/python3.12/site-packages (from tensorflow) (2.16.2)\n",
      "Requirement already satisfied: keras>=3.0.0 in /home/alan/.config/jupyterlab-desktop/jlab_server/lib/python3.12/site-packages (from tensorflow) (3.3.3)\n",
      "Requirement already satisfied: numpy<2.0.0,>=1.26.0 in /home/alan/.config/jupyterlab-desktop/jlab_server/lib/python3.12/site-packages (from tensorflow) (1.26.4)\n",
      "Requirement already satisfied: wheel<1.0,>=0.23.0 in /home/alan/.config/jupyterlab-desktop/jlab_server/lib/python3.12/site-packages (from astunparse>=1.6.0->tensorflow) (0.43.0)\n",
      "Requirement already satisfied: rich in /home/alan/.config/jupyterlab-desktop/jlab_server/lib/python3.12/site-packages (from keras>=3.0.0->tensorflow) (13.7.1)\n",
      "Requirement already satisfied: namex in /home/alan/.config/jupyterlab-desktop/jlab_server/lib/python3.12/site-packages (from keras>=3.0.0->tensorflow) (0.0.8)\n",
      "Requirement already satisfied: optree in /home/alan/.config/jupyterlab-desktop/jlab_server/lib/python3.12/site-packages (from keras>=3.0.0->tensorflow) (0.11.0)\n",
      "Requirement already satisfied: charset-normalizer<4,>=2 in /home/alan/.config/jupyterlab-desktop/jlab_server/lib/python3.12/site-packages (from requests<3,>=2.21.0->tensorflow) (3.3.2)\n",
      "Requirement already satisfied: idna<4,>=2.5 in /home/alan/.config/jupyterlab-desktop/jlab_server/lib/python3.12/site-packages (from requests<3,>=2.21.0->tensorflow) (3.7)\n",
      "Requirement already satisfied: urllib3<3,>=1.21.1 in /home/alan/.config/jupyterlab-desktop/jlab_server/lib/python3.12/site-packages (from requests<3,>=2.21.0->tensorflow) (2.2.1)\n",
      "Requirement already satisfied: certifi>=2017.4.17 in /home/alan/.config/jupyterlab-desktop/jlab_server/lib/python3.12/site-packages (from requests<3,>=2.21.0->tensorflow) (2024.2.2)\n",
      "Requirement already satisfied: markdown>=2.6.8 in /home/alan/.config/jupyterlab-desktop/jlab_server/lib/python3.12/site-packages (from tensorboard<2.17,>=2.16->tensorflow) (3.6)\n",
      "Requirement already satisfied: tensorboard-data-server<0.8.0,>=0.7.0 in /home/alan/.config/jupyterlab-desktop/jlab_server/lib/python3.12/site-packages (from tensorboard<2.17,>=2.16->tensorflow) (0.7.2)\n",
      "Requirement already satisfied: werkzeug>=1.0.1 in /home/alan/.config/jupyterlab-desktop/jlab_server/lib/python3.12/site-packages (from tensorboard<2.17,>=2.16->tensorflow) (3.0.3)\n",
      "Requirement already satisfied: MarkupSafe>=2.1.1 in /home/alan/.config/jupyterlab-desktop/jlab_server/lib/python3.12/site-packages (from werkzeug>=1.0.1->tensorboard<2.17,>=2.16->tensorflow) (2.1.5)\n",
      "Requirement already satisfied: markdown-it-py>=2.2.0 in /home/alan/.config/jupyterlab-desktop/jlab_server/lib/python3.12/site-packages (from rich->keras>=3.0.0->tensorflow) (3.0.0)\n",
      "Requirement already satisfied: pygments<3.0.0,>=2.13.0 in /home/alan/.config/jupyterlab-desktop/jlab_server/lib/python3.12/site-packages (from rich->keras>=3.0.0->tensorflow) (2.18.0)\n",
      "Requirement already satisfied: mdurl~=0.1 in /home/alan/.config/jupyterlab-desktop/jlab_server/lib/python3.12/site-packages (from markdown-it-py>=2.2.0->rich->keras>=3.0.0->tensorflow) (0.1.2)\n",
      "Requirement already satisfied: faiss-cpu in /home/alan/.config/jupyterlab-desktop/jlab_server/lib/python3.12/site-packages (1.8.0)\n",
      "Requirement already satisfied: numpy in /home/alan/.config/jupyterlab-desktop/jlab_server/lib/python3.12/site-packages (from faiss-cpu) (1.26.4)\n",
      "Requirement already satisfied: pillow in /home/alan/.config/jupyterlab-desktop/jlab_server/lib/python3.12/site-packages (10.3.0)\n"
     ]
    }
   ],
   "source": [
    "get_ipython().system('pip install opencv-python')\n",
    "get_ipython().system('pip install scikit-learn pillow tqdm')\n",
    "get_ipython().system('pip install torch torchvision numpy matplotlib')\n",
    "get_ipython().system('pip install tqdm')\n",
    "get_ipython().system('pip install Augmentor')\n",
    "get_ipython().system('pip install tensorflow')\n",
    "get_ipython().system('pip install faiss-cpu')\n",
    "get_ipython().system('pip install pillow')"
   ]
  },
  {
   "cell_type": "code",
   "execution_count": 11,
   "id": "f56a3b94-5a99-4b3f-84ee-bec9b5239514",
   "metadata": {},
   "outputs": [],
   "source": [
    "import sys\n",
    "import os\n",
    "\n",
    "# Add the ProtoPNet directory to the Python path\n",
    "proto_path = \"/home/alan/Documents/SelfReferencing_CNN_Project/ProtoPNetRepoClone/ProtoPNet\"\n",
    "if proto_path not in sys.path:\n",
    "    sys.path.append(proto_path)\n",
    "    \n",
    "import cv2   \n",
    "import torch\n",
    "import PIL\n",
    "import pandas as pd\n",
    "import numpy as np\n",
    "import Augmentor\n",
    "from glob import glob\n",
    "from sklearn.model_selection import train_test_split\n",
    "from sklearn.utils import resample\n",
    "from sklearn.model_selection import train_test_split\n",
    "import tensorflow as tf\n",
    "import torch.nn as nn\n",
    "import torch.optim as optim\n",
    "from tensorflow.keras.preprocessing.image import ImageDataGenerator\n",
    "import matplotlib.pyplot as plt\n",
    "from torchvision import models\n",
    "from torch.utils.data import DataLoader\n",
    "from torchvision import datasets, transforms\n",
    "from resnet_features import resnet50_features\n",
    "from model import PPNet\n",
    "from model import construct_PPNet\n",
    "\n"
   ]
  },
  {
   "cell_type": "code",
   "execution_count": 12,
   "id": "0b28310d-afff-4768-9c31-a5321c681eee",
   "metadata": {},
   "outputs": [
    {
     "name": "stdout",
     "output_type": "stream",
     "text": [
      "cuda:0\n",
      "12.1\n",
      "Number of GPUs available: 1\n",
      "GPU Name: NVIDIA GeForce RTX 4070\n"
     ]
    }
   ],
   "source": [
    "device = torch.device('cuda:0' if torch.cuda.is_available() else 'cpu')\n",
    "print(device)\n",
    "print(torch.version.cuda)\n",
    "print(f\"Number of GPUs available: {torch.cuda.device_count()}\")\n",
    "print(f\"GPU Name: {torch.cuda.get_device_name(0)}\")\n"
   ]
  },
  {
   "cell_type": "code",
   "execution_count": 13,
   "id": "7d04ada5-dba5-4e39-b77f-6685356ccfb7",
   "metadata": {},
   "outputs": [
    {
     "name": "stdout",
     "output_type": "stream",
     "text": [
      "                                              file_path     class\n",
      "9204  /home/alan/Documents/SelfReferencing_CNN_Proje...  COVID-19\n",
      "9205  /home/alan/Documents/SelfReferencing_CNN_Proje...  COVID-19\n",
      "9206  /home/alan/Documents/SelfReferencing_CNN_Proje...  COVID-19\n",
      "9207  /home/alan/Documents/SelfReferencing_CNN_Proje...  COVID-19\n",
      "9208  /home/alan/Documents/SelfReferencing_CNN_Proje...  COVID-19\n",
      "                                           file_path                class  \\\n",
      "0  /home/alan/Documents/SelfReferencing_CNN_Proje...  Pneumonia-Bacterial   \n",
      "1  /home/alan/Documents/SelfReferencing_CNN_Proje...  Pneumonia-Bacterial   \n",
      "2  /home/alan/Documents/SelfReferencing_CNN_Proje...  Pneumonia-Bacterial   \n",
      "3  /home/alan/Documents/SelfReferencing_CNN_Proje...  Pneumonia-Bacterial   \n",
      "4  /home/alan/Documents/SelfReferencing_CNN_Proje...  Pneumonia-Bacterial   \n",
      "\n",
      "                                               image  \n",
      "0  [[[21, 21, 21], [17, 17, 17], [22, 22, 22], [2...  \n",
      "1  [[[140, 140, 140], [140, 140, 140], [147, 147,...  \n",
      "2  [[[31, 31, 31], [32, 32, 32], [30, 30, 30], [3...  \n",
      "3  [[[8, 8, 8], [8, 8, 8], [7, 7, 7], [7, 7, 7], ...  \n",
      "4  [[[0, 0, 0], [1, 1, 1], [255, 255, 255], [255,...  \n"
     ]
    }
   ],
   "source": [
    "# Load data set from local folder by class\n",
    "def load_images(dataset_path):\n",
    "    data = []\n",
    "    for class_folder in os.listdir(dataset_path):\n",
    "        class_path = os.path.join(dataset_path, class_folder)\n",
    "        if os.path.isdir(class_path):\n",
    "            for img_file in glob(f\"{class_path}/*.jpg\"):  # Adjust the file extension if needed\n",
    "                data.append({\"file_path\": img_file, \"class\": class_folder})\n",
    "    df = pd.DataFrame(data)\n",
    "    return df\n",
    "\n",
    "# Apply preprocessing to each image\n",
    "def preprocess_image(image_path, target_size=(224, 224)):\n",
    "    image = cv2.imread(image_path)\n",
    "    image = cv2.resize(image, target_size)\n",
    "    #image = cv2.cvtColor(image, cv2.COLOR_BGR2RGB)  # Convert to RGB if needed\n",
    "    return image\n",
    "\n",
    "# Create dataframe with ground truth\n",
    "dataset_path = \"/home/alan/Documents/SelfReferencing_CNN_Project/ChestXrays/Curated Dataset for COVID-19 Posterior-Anterior Chest Radiography Images (X-Rays)/Curated X-Ray Dataset\"\n",
    "df = load_images(dataset_path)\n",
    "print(df.tail())\n",
    "\n",
    "# Add images to dataframe\n",
    "df['image'] = df['file_path'].apply(preprocess_image)\n",
    "print(df.head())\n",
    "\n"
   ]
  },
  {
   "cell_type": "code",
   "execution_count": 14,
   "id": "42fb5f80-3488-4352-a4f2-d8897571b16b",
   "metadata": {},
   "outputs": [
    {
     "name": "stdout",
     "output_type": "stream",
     "text": [
      "class\n",
      "Normal                 3271\n",
      "Pneumonia-Bacterial    3001\n",
      "Pneumonia-Viral        1656\n",
      "COVID-19               1281\n",
      "Name: count, dtype: int64\n",
      "class\n",
      "Normal                 1281\n",
      "Pneumonia-Bacterial    1281\n",
      "COVID-19               1281\n",
      "Pneumonia-Viral        1281\n",
      "Name: count, dtype: int64\n"
     ]
    }
   ],
   "source": [
    "class_distribution = df['class'].value_counts()\n",
    "print(class_distribution)\n",
    "\n",
    "# Get the size of the smallest class\n",
    "min_class_count = class_distribution.min()\n",
    "\n",
    "# Function to undersample a class to the minimum class count\n",
    "def undersample_class(df, class_name, n_samples):\n",
    "    return df[df['class'] == class_name].sample(n_samples, random_state=42)\n",
    "\n",
    "# Create a balanced DataFrame by undersampling each class\n",
    "balanced_df = pd.concat([\n",
    "    undersample_class(df, class_name, min_class_count)\n",
    "    for class_name in class_distribution.index\n",
    "])\n",
    "\n",
    "# Shuffle the balanced DataFrame\n",
    "balanced_df = balanced_df.sample(frac=1, random_state=42).reset_index(drop=True)\n",
    "\n",
    "# Verify the new class distribution\n",
    "balanced_class_distribution = balanced_df['class'].value_counts()\n",
    "print(balanced_class_distribution)"
   ]
  },
  {
   "cell_type": "code",
   "execution_count": 15,
   "id": "c4b352d4-a100-4837-ad60-e506e24b2f23",
   "metadata": {},
   "outputs": [
    {
     "name": "stdout",
     "output_type": "stream",
     "text": [
      "X_train shape: (4099, 224, 224, 3)\n",
      "y_train shape: (4099, 4)\n",
      "X_test shape: (1025, 224, 224, 3)\n",
      "y_test shape: (1025, 4)\n"
     ]
    }
   ],
   "source": [
    "# Convert images to numpy array\n",
    "X = np.stack(balanced_df['image'].values)\n",
    "\n",
    "# Convert class labels to one-hot encoding\n",
    "y = pd.get_dummies(balanced_df['class']).values\n",
    "\n",
    "# Normalize pixel values between 0 and 1\n",
    "X = X / 255.0\n",
    "\n",
    "X_train, X_test, y_train, y_test = train_test_split(X, y, test_size=0.2, random_state=42)\n",
    "\n",
    "# Verify the shapes of the resulting arrays\n",
    "print(\"X_train shape:\", X_train.shape)\n",
    "print(\"y_train shape:\", y_train.shape)\n",
    "print(\"X_test shape:\", X_test.shape)\n",
    "print(\"y_test shape:\", y_test.shape)\n",
    "\n",
    "# Convert one-hot encoded labels back to class labels\n",
    "y_train_labels = np.argmax(y_train, axis=1)\n",
    "y_test_labels = np.argmax(y_test, axis=1)\n",
    "\n",
    "# Get class names from one-hot encoding\n",
    "class_names = pd.get_dummies(balanced_df['class']).columns\n",
    "\n",
    "# Create DataFrames for train and test sets\n",
    "train_df = pd.DataFrame({'image': list(X_train), 'class': [class_names[i] for i in y_train_labels]})\n",
    "test_df = pd.DataFrame({'image': list(X_test), 'class': [class_names[i] for i in y_test_labels]})\n",
    "\n",
    "# Define the directories\n",
    "train_dir = '/home/alan/Documents/SelfReferencing_CNN_Project/datasets/train'\n",
    "test_dir = '/home/alan/Documents/SelfReferencing_CNN_Project/datasets/test'\n",
    "\n",
    "# Ensure the directories exist\n",
    "os.makedirs(train_dir, exist_ok=True)\n",
    "os.makedirs(test_dir, exist_ok=True)\n",
    "\n",
    "# Function to save images to the appropriate directory\n",
    "def save_images(df, base_dir):\n",
    "    for idx, row in df.iterrows():\n",
    "        class_dir = os.path.join(base_dir, row['class'])\n",
    "        os.makedirs(class_dir, exist_ok=True)\n",
    "        img = (row['image'] * 255).astype(np.uint8)  # Convert back to uint8 format\n",
    "        img = PIL.Image.fromarray(img)\n",
    "        img.save(os.path.join(class_dir, f'image_{idx}.jpg'))\n",
    "\n",
    "# Save training and testing images\n",
    "save_images(train_df, train_dir)\n",
    "save_images(test_df, test_dir)\n",
    "\n",
    "\n",
    "\n",
    "\n",
    "\n",
    "# Convert your numpy arrays to PyTorch tensors\n",
    "X_train = torch.tensor(X_train, dtype=torch.float32)\n",
    "y_train = torch.tensor(y_train, dtype=torch.long)\n",
    "X_test = torch.tensor(X_test, dtype=torch.float32)\n",
    "y_test = torch.tensor(y_test, dtype=torch.long)\n",
    "\n",
    "# Create data loaders\n",
    "train_dataset = torch.utils.data.TensorDataset(X_train, y_train)\n",
    "test_dataset = torch.utils.data.TensorDataset(X_test, y_test)\n",
    "train_loader = torch.utils.data.DataLoader(train_dataset, batch_size=32, shuffle=True)\n",
    "test_loader = torch.utils.data.DataLoader(test_dataset, batch_size=32, shuffle=False)\n",
    "\n"
   ]
  },
  {
   "cell_type": "code",
   "execution_count": 16,
   "id": "e7fcbe1b-fe61-4b20-af2b-d9c53a1cf41a",
   "metadata": {},
   "outputs": [
    {
     "name": "stdout",
     "output_type": "stream",
     "text": [
      "Initialised with 1027 image(s) found.\n",
      "Output directory set to /home/alan/Documents/SelfReferencing_CNN_Project/datasets/train_augmented/Pneumonia-Bacterial."
     ]
    },
    {
     "name": "stderr",
     "output_type": "stream",
     "text": [
      "Processing <PIL.Image.Image image mode=RGB size=224x224 at 0x774CD3D0FFE0>: 100%|██████████| 1281/1281 [00:02<00:00, 606.76 Samples/s]\n"
     ]
    },
    {
     "name": "stdout",
     "output_type": "stream",
     "text": [
      "Initialised with 1036 image(s) found.\n",
      "Output directory set to /home/alan/Documents/SelfReferencing_CNN_Project/datasets/train_augmented/Pneumonia-Viral."
     ]
    },
    {
     "name": "stderr",
     "output_type": "stream",
     "text": [
      "Processing <PIL.Image.Image image mode=RGB size=224x224 at 0x774CD536B920>: 100%|██████████| 1281/1281 [00:02<00:00, 582.40 Samples/s]\n"
     ]
    },
    {
     "name": "stdout",
     "output_type": "stream",
     "text": [
      "Initialised with 1014 image(s) found.\n",
      "Output directory set to /home/alan/Documents/SelfReferencing_CNN_Project/datasets/train_augmented/Normal."
     ]
    },
    {
     "name": "stderr",
     "output_type": "stream",
     "text": [
      "Processing <PIL.Image.Image image mode=RGB size=224x224 at 0x774CD3D0C260>: 100%|██████████| 1281/1281 [00:02<00:00, 578.80 Samples/s]\n"
     ]
    },
    {
     "name": "stdout",
     "output_type": "stream",
     "text": [
      "Initialised with 1022 image(s) found.\n",
      "Output directory set to /home/alan/Documents/SelfReferencing_CNN_Project/datasets/train_augmented/COVID-19."
     ]
    },
    {
     "name": "stderr",
     "output_type": "stream",
     "text": [
      "Processing <PIL.Image.Image image mode=RGB size=224x224 at 0x774E67A5F140>: 100%|██████████| 1281/1281 [00:02<00:00, 574.36 Samples/s] "
     ]
    },
    {
     "name": "stdout",
     "output_type": "stream",
     "text": [
      "Data augmentation completed.\n"
     ]
    },
    {
     "name": "stderr",
     "output_type": "stream",
     "text": [
      "\n"
     ]
    }
   ],
   "source": [
    "import Augmentor\n",
    "import os\n",
    "\n",
    "def makedir(path):\n",
    "    '''\n",
    "    if path does not exist in the file system, create it\n",
    "    '''\n",
    "    if not os.path.exists(path):\n",
    "        os.makedirs(path)\n",
    "\n",
    "datasets_root_dir = '/home/alan/Documents/SelfReferencing_CNN_Project/datasets/'\n",
    "train_dir = datasets_root_dir + 'train/'\n",
    "target_dir = datasets_root_dir + 'train_augmented/'\n",
    "\n",
    "makedir(target_dir)\n",
    "\n",
    "folders = [os.path.join(train_dir, folder) for folder in next(os.walk(train_dir))[1]]\n",
    "target_folders = [os.path.join(target_dir, folder) for folder in next(os.walk(train_dir))[1]]\n",
    "\n",
    "for i in range(len(folders)):\n",
    "    fd = folders[i]\n",
    "    tfd = target_folders[i]\n",
    "    makedir(tfd)\n",
    "    \n",
    "    # Create a pipeline for each folder\n",
    "    p = Augmentor.Pipeline(source_directory=fd, output_directory=tfd)\n",
    "    \n",
    "    # Define augmentation operations\n",
    "    p.rotate(probability=1, max_left_rotation=15, max_right_rotation=15)\n",
    "    p.flip_left_right(probability=0.5)\n",
    "    p.skew(probability=1, magnitude=0.2)\n",
    "    p.shear(probability=1, max_shear_left=10, max_shear_right=10)\n",
    "    # add random distortion\n",
    "    # p.random_distortion(probability=1.0, grid_width=10, grid_height=10, magnitude=5)\n",
    "    \n",
    "    # Set the number of augmented samples to be generated\n",
    "    num_samples = 1281  # Adjust the number based on your dataset size\n",
    "    \n",
    "    # Generate the augmented images\n",
    "    p.sample(num_samples)\n",
    "\n",
    "print(\"Data augmentation completed.\")"
   ]
  },
  {
   "cell_type": "code",
   "execution_count": 18,
   "id": "ced988bf-bb09-48b8-8725-1d01bf0a7c87",
   "metadata": {},
   "outputs": [
    {
     "name": "stdout",
     "output_type": "stream",
     "text": [
      "0\n",
      "Traceback (most recent call last):\n",
      "  File \"/home/alan/Documents/SelfReferencing_CNN_Project/ProtoPNetRepoClone/ProtoPNet/main.py\", line 37, in <module>\n",
      "    shutil.copy(src=os.path.join(os.getcwd(), 'settings.py'), dst=model_dir)\n",
      "  File \"/home/alan/.config/jupyterlab-desktop/jlab_server/lib/python3.12/shutil.py\", line 435, in copy\n",
      "    copyfile(src, dst, follow_symlinks=follow_symlinks)\n",
      "  File \"/home/alan/.config/jupyterlab-desktop/jlab_server/lib/python3.12/shutil.py\", line 260, in copyfile\n",
      "    with open(src, 'rb') as fsrc:\n",
      "         ^^^^^^^^^^^^^^^\n",
      "FileNotFoundError: [Errno 2] No such file or directory: '/home/alan/Documents/SelfReferencing_CNN_Project/JupyterNotebooks/settings.py'\n"
     ]
    }
   ],
   "source": [
    "!python3 /home/alan/Documents/SelfReferencing_CNN_Project/ProtoPNetRepoClone/ProtoPNet/main.py -gpuid=0"
   ]
  },
  {
   "cell_type": "code",
   "execution_count": null,
   "id": "9cba1d15-8e7b-4f64-b36d-48e38260d889",
   "metadata": {},
   "outputs": [],
   "source": []
  }
 ],
 "metadata": {
  "kernelspec": {
   "display_name": "Python 3 (ipykernel)",
   "language": "python",
   "name": "python3"
  },
  "language_info": {
   "codemirror_mode": {
    "name": "ipython",
    "version": 3
   },
   "file_extension": ".py",
   "mimetype": "text/x-python",
   "name": "python",
   "nbconvert_exporter": "python",
   "pygments_lexer": "ipython3",
   "version": "3.12.3"
  }
 },
 "nbformat": 4,
 "nbformat_minor": 5
}
